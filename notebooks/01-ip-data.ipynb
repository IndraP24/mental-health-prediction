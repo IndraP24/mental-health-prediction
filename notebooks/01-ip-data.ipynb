{
 "cells": [
  {
   "cell_type": "code",
   "execution_count": null,
   "metadata": {},
   "outputs": [
    {
     "ename": "",
     "evalue": "",
     "output_type": "error",
     "traceback": [
      "\u001b[1;31mRunning cells with 'Python 3.8.12 ('mentalHealth')' requires ipykernel package.\n",
      "Run the following command to install 'ipykernel' into the Python environment. \n",
      "Command: 'conda install -n mentalHealth ipykernel --update-deps --force-reinstall'"
     ]
    }
   ],
   "source": [
    "import os\n",
    "import sys\n",
    "\n",
    "BASE_DIR = os.path.abspath(\"../\")\n",
    "if BASE_DIR not in sys.path:\n",
    "    sys.path = [BASE_DIR] + sys.path\n",
    "\n",
    "from scripts import data"
   ]
  },
  {
   "cell_type": "code",
   "execution_count": null,
   "metadata": {},
   "outputs": [],
   "source": []
  }
 ],
 "metadata": {
  "interpreter": {
   "hash": "46b2cc7fc081cc6f19f72bd4191f4bcbe4f4fcb868dbb9f2c6e2124dee7ff70e"
  },
  "kernelspec": {
   "display_name": "Python 3.8.12 ('mentalHealth')",
   "language": "python",
   "name": "python3"
  },
  "language_info": {
   "name": "python",
   "version": "3.8.12"
  },
  "orig_nbformat": 4
 },
 "nbformat": 4,
 "nbformat_minor": 2
}
