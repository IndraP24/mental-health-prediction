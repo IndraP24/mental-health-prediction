{
 "cells": [
  {
   "cell_type": "code",
   "execution_count": 3,
   "metadata": {},
   "outputs": [],
   "source": [
    "import os\n",
    "import sys\n",
    "from importlib import reload\n",
    "import requests\n",
    "import click\n",
    "\n",
    "BASE_DIR = os.path.abspath(\"../\")\n",
    "if BASE_DIR not in sys.path:\n",
    "    sys.path = [BASE_DIR] + sys.path\n"
   ]
  },
  {
   "cell_type": "code",
   "execution_count": 4,
   "metadata": {},
   "outputs": [],
   "source": [
    "url = \"https://www.kaggle.com/datasets/faruqui682/mental-health-survey/download\""
   ]
  },
  {
   "cell_type": "code",
   "execution_count": 5,
   "metadata": {},
   "outputs": [],
   "source": [
    "r = requests.get(url, stream=True)"
   ]
  },
  {
   "cell_type": "code",
   "execution_count": 6,
   "metadata": {},
   "outputs": [
    {
     "data": {
      "text/plain": [
       "{'Content-Type': 'text/html; charset=utf-8', 'Date': 'Thu, 14 Apr 2022 18:55:43 GMT', 'Cache-Control': 'no-cache, no-store', 'Content-Encoding': 'gzip', 'Pragma': 'no-cache', 'Set-Cookie': 'CSRF-TOKEN=CfDJ8LdUzqlsSWBPr4Ce3rb9VL-fOED_fnd3MPWGsoEL6F48DrgTpKbcllSO0SUwBV5u4tFPDBlyXa756Is7MMuWDm_NDt9gOi6V8axVIC_MUR6mgPV2R0ZMrI5cl80cPCmZb-eNFTNE0u7zAQpmsaVJ-Kg; path=/; secure; samesite=lax; httponly, XSRF-TOKEN=CfDJ8LdUzqlsSWBPr4Ce3rb9VL-mdX7bec2-WJQICXvrRtfvfSOyP3VhAQ6mh68XPzDBcGUEonqcDEeeqAERWkkEWTDqomSavnCLaqmI8rsxybKzANmyYl1W8tU114pyAidykdlc72gERiY3BF3vwllJG9g; path=/; secure; samesite=lax, CLIENT-TOKEN=eyJhbGciOiJub25lIiwidHlwIjoiSldUIn0.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.; path=/; secure; samesite=lax', 'Vary': 'Accept-Encoding', 'Turbolinks-Location': 'https://www.kaggle.com/account/login?titleType=dataset-downloads&showDatasetDownloadSkip=False&messageId=datasetsWelcome&returnUrl=%2Fdatasets%2Ffaruqui682%2Fmental-health-survey%3Fresource%3Ddownload', 'X-Frame-Options': 'SAMEORIGIN', 'Strict-Transport-Security': 'max-age=63072000; includeSubDomains; preload', 'Content-Security-Policy': \"object-src 'none'; script-src 'nonce-LlweLET6hD42b3ickUtubw==' 'report-sample' 'unsafe-inline' 'unsafe-eval' 'strict-dynamic' https: http:; frame-src 'self' https://www.kaggleusercontent.com https://www.youtube.com/embed/ https://polygraph-cool.github.io https://www.google.com/recaptcha/ https://form.jotform.com https://submit.jotform.us https://submit.jotformpro.com https://submit.jotform.com https://www.docdroid.com https://www.docdroid.net https://kaggle-static.storage.googleapis.com https://kaggle-static-staging.storage.googleapis.com https://kkb-dev.jupyter-proxy.kaggle.net https://kkb-staging.jupyter-proxy.kaggle.net https://kkb-production.jupyter-proxy.kaggle.net https://kkb-dev.firebaseapp.com https://kkb-staging.firebaseapp.com https://kkb-production.firebaseapp.com https://kaggle-metastore-test.firebaseapp.com https://kaggle-metastore.firebaseapp.com https://apis.google.com https://content-sheets.googleapis.com/ https://accounts.google.com/ https://storage.googleapis.com https://docs.google.com https://drive.google.com; base-uri 'none'; report-uri https://csp.withgoogle.com/csp/kaggle/20201130;\", 'X-Content-Type-Options': 'nosniff', 'Referrer-Policy': 'strict-origin-when-cross-origin', 'Via': '1.1 google', 'Alt-Svc': 'h3=\":443\"; ma=2592000,h3-29=\":443\"; ma=2592000', 'Transfer-Encoding': 'chunked'}"
      ]
     },
     "execution_count": 6,
     "metadata": {},
     "output_type": "execute_result"
    }
   ],
   "source": [
    "r.headers"
   ]
  },
  {
   "cell_type": "code",
   "execution_count": null,
   "metadata": {},
   "outputs": [],
   "source": []
  }
 ],
 "metadata": {
  "interpreter": {
   "hash": "46b2cc7fc081cc6f19f72bd4191f4bcbe4f4fcb868dbb9f2c6e2124dee7ff70e"
  },
  "kernelspec": {
   "display_name": "Python 3.8.12 ('mentalHealth')",
   "language": "python",
   "name": "python3"
  },
  "language_info": {
   "codemirror_mode": {
    "name": "ipython",
    "version": 3
   },
   "file_extension": ".py",
   "mimetype": "text/x-python",
   "name": "python",
   "nbconvert_exporter": "python",
   "pygments_lexer": "ipython3",
   "version": "3.8.13"
  },
  "orig_nbformat": 4
 },
 "nbformat": 4,
 "nbformat_minor": 2
}
