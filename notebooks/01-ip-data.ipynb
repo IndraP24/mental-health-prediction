{
 "cells": [
  {
   "cell_type": "code",
   "execution_count": 2,
   "metadata": {},
   "outputs": [
    {
     "data": {
      "text/plain": [
       "<module 'scripts.data' from '/mnt/569013e9-d6c9-40ca-b4a9-2355022e7589/Projects/mental-health/scripts/data/__init__.py'>"
      ]
     },
     "execution_count": 2,
     "metadata": {},
     "output_type": "execute_result"
    }
   ],
   "source": [
    "import os\n",
    "import sys\n",
    "from importlib import reload\n",
    "import requests\n",
    "import click\n",
    "\n",
    "BASE_DIR = os.path.abspath(\"../\")\n",
    "if BASE_DIR not in sys.path:\n",
    "    sys.path = [BASE_DIR] + sys.path\n",
    "\n",
    "from scripts import data\n",
    "reload(data)"
   ]
  },
  {
   "cell_type": "code",
   "execution_count": null,
   "metadata": {},
   "outputs": [],
   "source": []
  }
 ],
 "metadata": {
  "interpreter": {
   "hash": "46b2cc7fc081cc6f19f72bd4191f4bcbe4f4fcb868dbb9f2c6e2124dee7ff70e"
  },
  "kernelspec": {
   "display_name": "Python 3.8.12 ('mentalHealth')",
   "language": "python",
   "name": "python3"
  },
  "language_info": {
   "codemirror_mode": {
    "name": "ipython",
    "version": 3
   },
   "file_extension": ".py",
   "mimetype": "text/x-python",
   "name": "python",
   "nbconvert_exporter": "python",
   "pygments_lexer": "ipython3",
   "version": "3.9.12"
  },
  "orig_nbformat": 4
 },
 "nbformat": 4,
 "nbformat_minor": 2
}
