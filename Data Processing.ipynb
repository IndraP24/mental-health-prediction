{
 "cells": [
  {
   "cell_type": "code",
   "execution_count": 2,
   "metadata": {},
   "outputs": [],
   "source": [
    "import pandas as pd"
   ]
  },
  {
   "cell_type": "code",
   "execution_count": 3,
   "metadata": {},
   "outputs": [],
   "source": [
    "df = pd.read_csv('./data/mentalHealth.csv',low_memory=False)"
   ]
  },
  {
   "cell_type": "code",
   "execution_count": 4,
   "metadata": {},
   "outputs": [
    {
     "name": "stdout",
     "output_type": "stream",
     "text": [
      "(119088, 89)\n"
     ]
    },
    {
     "data": {
      "text/html": [
       "<div>\n",
       "<style scoped>\n",
       "    .dataframe tbody tr th:only-of-type {\n",
       "        vertical-align: middle;\n",
       "    }\n",
       "\n",
       "    .dataframe tbody tr th {\n",
       "        vertical-align: top;\n",
       "    }\n",
       "\n",
       "    .dataframe thead th {\n",
       "        text-align: right;\n",
       "    }\n",
       "</style>\n",
       "<table border=\"1\" class=\"dataframe\">\n",
       "  <thead>\n",
       "    <tr style=\"text-align: right;\">\n",
       "      <th></th>\n",
       "      <th>COUNTRYNEW</th>\n",
       "      <th>WPID_RANDOM</th>\n",
       "      <th>WGT</th>\n",
       "      <th>PROJWT</th>\n",
       "      <th>FIELD_DATE</th>\n",
       "      <th>YEAR_WAVE</th>\n",
       "      <th>W1</th>\n",
       "      <th>W2</th>\n",
       "      <th>W3</th>\n",
       "      <th>W4</th>\n",
       "      <th>...</th>\n",
       "      <th>age_var1</th>\n",
       "      <th>age_var2</th>\n",
       "      <th>age_var3</th>\n",
       "      <th>Gender</th>\n",
       "      <th>Education</th>\n",
       "      <th>Household_Income</th>\n",
       "      <th>Global11Regions</th>\n",
       "      <th>wbi</th>\n",
       "      <th>Subjective_Income</th>\n",
       "      <th>EMP_2010</th>\n",
       "    </tr>\n",
       "  </thead>\n",
       "  <tbody>\n",
       "    <tr>\n",
       "      <th>0</th>\n",
       "      <td>United States</td>\n",
       "      <td>178216898</td>\n",
       "      <td>0.803440</td>\n",
       "      <td>211560.29700</td>\n",
       "      <td>10/01/2020</td>\n",
       "      <td>2020</td>\n",
       "      <td>2</td>\n",
       "      <td>1</td>\n",
       "      <td>2</td>\n",
       "      <td>2</td>\n",
       "      <td>...</td>\n",
       "      <td>3</td>\n",
       "      <td>4</td>\n",
       "      <td>4</td>\n",
       "      <td>2</td>\n",
       "      <td>2</td>\n",
       "      <td>5</td>\n",
       "      <td>9</td>\n",
       "      <td>4</td>\n",
       "      <td>2</td>\n",
       "      <td>6</td>\n",
       "    </tr>\n",
       "    <tr>\n",
       "      <th>1</th>\n",
       "      <td>United States</td>\n",
       "      <td>159107018</td>\n",
       "      <td>0.729590</td>\n",
       "      <td>192114.26740</td>\n",
       "      <td>10/01/2020</td>\n",
       "      <td>2020</td>\n",
       "      <td>1</td>\n",
       "      <td>1</td>\n",
       "      <td>3</td>\n",
       "      <td>1</td>\n",
       "      <td>...</td>\n",
       "      <td>1</td>\n",
       "      <td>1</td>\n",
       "      <td>1</td>\n",
       "      <td>1</td>\n",
       "      <td>3</td>\n",
       "      <td>4</td>\n",
       "      <td>9</td>\n",
       "      <td>4</td>\n",
       "      <td>1</td>\n",
       "      <td>1</td>\n",
       "    </tr>\n",
       "    <tr>\n",
       "      <th>2</th>\n",
       "      <td>United States</td>\n",
       "      <td>203166417</td>\n",
       "      <td>0.848559</td>\n",
       "      <td>223440.98710</td>\n",
       "      <td>10/01/2020</td>\n",
       "      <td>2020</td>\n",
       "      <td>1</td>\n",
       "      <td>1</td>\n",
       "      <td>3</td>\n",
       "      <td>1</td>\n",
       "      <td>...</td>\n",
       "      <td>1</td>\n",
       "      <td>1</td>\n",
       "      <td>2</td>\n",
       "      <td>1</td>\n",
       "      <td>3</td>\n",
       "      <td>4</td>\n",
       "      <td>9</td>\n",
       "      <td>4</td>\n",
       "      <td>1</td>\n",
       "      <td>1</td>\n",
       "    </tr>\n",
       "    <tr>\n",
       "      <th>3</th>\n",
       "      <td>United States</td>\n",
       "      <td>201061719</td>\n",
       "      <td>0.341083</td>\n",
       "      <td>89813.41772</td>\n",
       "      <td>10/01/2020</td>\n",
       "      <td>2020</td>\n",
       "      <td>2</td>\n",
       "      <td>1</td>\n",
       "      <td>3</td>\n",
       "      <td>2</td>\n",
       "      <td>...</td>\n",
       "      <td>3</td>\n",
       "      <td>3</td>\n",
       "      <td>4</td>\n",
       "      <td>2</td>\n",
       "      <td>3</td>\n",
       "      <td>4</td>\n",
       "      <td>9</td>\n",
       "      <td>4</td>\n",
       "      <td>2</td>\n",
       "      <td>1</td>\n",
       "    </tr>\n",
       "    <tr>\n",
       "      <th>4</th>\n",
       "      <td>United States</td>\n",
       "      <td>195404162</td>\n",
       "      <td>0.995933</td>\n",
       "      <td>262247.16630</td>\n",
       "      <td>10/01/2020</td>\n",
       "      <td>2020</td>\n",
       "      <td>3</td>\n",
       "      <td>1</td>\n",
       "      <td>2</td>\n",
       "      <td>1</td>\n",
       "      <td>...</td>\n",
       "      <td>2</td>\n",
       "      <td>2</td>\n",
       "      <td>3</td>\n",
       "      <td>1</td>\n",
       "      <td>2</td>\n",
       "      <td>2</td>\n",
       "      <td>9</td>\n",
       "      <td>4</td>\n",
       "      <td>4</td>\n",
       "      <td>6</td>\n",
       "    </tr>\n",
       "  </tbody>\n",
       "</table>\n",
       "<p>5 rows × 89 columns</p>\n",
       "</div>"
      ],
      "text/plain": [
       "      COUNTRYNEW  WPID_RANDOM       WGT        PROJWT  FIELD_DATE  YEAR_WAVE  \\\n",
       "0  United States    178216898  0.803440  211560.29700  10/01/2020       2020   \n",
       "1  United States    159107018  0.729590  192114.26740  10/01/2020       2020   \n",
       "2  United States    203166417  0.848559  223440.98710  10/01/2020       2020   \n",
       "3  United States    201061719  0.341083   89813.41772  10/01/2020       2020   \n",
       "4  United States    195404162  0.995933  262247.16630  10/01/2020       2020   \n",
       "\n",
       "   W1  W2 W3 W4  ...  age_var1 age_var2  age_var3 Gender  Education  \\\n",
       "0   2   1  2  2  ...         3        4         4      2          2   \n",
       "1   1   1  3  1  ...         1        1         1      1          3   \n",
       "2   1   1  3  1  ...         1        1         2      1          3   \n",
       "3   2   1  3  2  ...         3        3         4      2          3   \n",
       "4   3   1  2  1  ...         2        2         3      1          2   \n",
       "\n",
       "   Household_Income  Global11Regions  wbi  Subjective_Income  EMP_2010  \n",
       "0                 5                9    4                  2         6  \n",
       "1                 4                9    4                  1         1  \n",
       "2                 4                9    4                  1         1  \n",
       "3                 4                9    4                  2         1  \n",
       "4                 2                9    4                  4         6  \n",
       "\n",
       "[5 rows x 89 columns]"
      ]
     },
     "execution_count": 4,
     "metadata": {},
     "output_type": "execute_result"
    }
   ],
   "source": [
    "print(df.shape)\n",
    "df.head()"
   ]
  },
  {
   "cell_type": "code",
   "execution_count": 5,
   "metadata": {},
   "outputs": [
    {
     "data": {
      "text/plain": [
       "<bound method IndexOpsMixin.value_counts of Index(['COUNTRYNEW', 'WPID_RANDOM', 'WGT', 'PROJWT', 'FIELD_DATE', 'YEAR_WAVE',\n",
       "       'W1', 'W2', 'W3', 'W4', 'W5A', 'W5B', 'W5C', 'W5D', 'W5E', 'W5F', 'W5G',\n",
       "       'W6', 'W7A', 'W7B', 'W7C', 'W8', 'W9', 'W10', 'W11A', 'W11B', 'MH2A',\n",
       "       'MH2B', 'W13', 'W14', 'W15', 'W15_1A', 'W15_1B', 'W15_1C', 'W15_1D',\n",
       "       'W15_1E', 'W15_2A', 'W15_2B', 'MH1', 'MH3A', 'MH3B', 'MH3C', 'MH3D',\n",
       "       'MH4A', 'MH4B', 'MH5', 'MH6', 'MH7A', 'MH7B', 'MH7B_2', 'MH7C', 'MH8A',\n",
       "       'MH8B', 'MH8C', 'MH8D', 'MH8E', 'MH8F', 'MH8G', 'MH8H', 'MH9A', 'MH9B',\n",
       "       'MH9C', 'MH9D', 'MH9E', 'MH9F', 'MH9G', 'MH9H', 'W27', 'W28', 'W29',\n",
       "       'W30', 'WP21757', 'WP21758', 'WP21759', 'WP21760', 'WP21761', 'WP21768',\n",
       "       'age_mh', 'Age', 'age_var1', 'age_var2', 'age_var3', 'Gender',\n",
       "       'Education', 'Household_Income', 'Global11Regions', 'wbi',\n",
       "       'Subjective_Income', 'EMP_2010'],\n",
       "      dtype='object')>"
      ]
     },
     "execution_count": 5,
     "metadata": {},
     "output_type": "execute_result"
    }
   ],
   "source": [
    "df.columns.value_counts"
   ]
  },
  {
   "cell_type": "code",
   "execution_count": 6,
   "metadata": {},
   "outputs": [
    {
     "name": "stdout",
     "output_type": "stream",
     "text": [
      "<class 'pandas.core.frame.DataFrame'>\n",
      "RangeIndex: 119088 entries, 0 to 119087\n",
      "Data columns (total 89 columns):\n",
      " #   Column             Non-Null Count   Dtype  \n",
      "---  ------             --------------   -----  \n",
      " 0   COUNTRYNEW         119088 non-null  object \n",
      " 1   WPID_RANDOM        119088 non-null  int64  \n",
      " 2   WGT                119088 non-null  float64\n",
      " 3   PROJWT             119088 non-null  float64\n",
      " 4   FIELD_DATE         119088 non-null  object \n",
      " 5   YEAR_WAVE          119088 non-null  int64  \n",
      " 6   W1                 119088 non-null  int64  \n",
      " 7   W2                 119088 non-null  int64  \n",
      " 8   W3                 119088 non-null  object \n",
      " 9   W4                 119088 non-null  object \n",
      " 10  W5A                119088 non-null  int64  \n",
      " 11  W5B                119088 non-null  object \n",
      " 12  W5C                119088 non-null  int64  \n",
      " 13  W5D                119088 non-null  object \n",
      " 14  W5E                119088 non-null  int64  \n",
      " 15  W5F                119088 non-null  int64  \n",
      " 16  W5G                119088 non-null  int64  \n",
      " 17  W6                 119088 non-null  int64  \n",
      " 18  W7A                119088 non-null  int64  \n",
      " 19  W7B                119088 non-null  int64  \n",
      " 20  W7C                119088 non-null  object \n",
      " 21  W8                 119088 non-null  int64  \n",
      " 22  W9                 119088 non-null  int64  \n",
      " 23  W10                119088 non-null  int64  \n",
      " 24  W11A               119088 non-null  int64  \n",
      " 25  W11B               119088 non-null  int64  \n",
      " 26  MH2A               119088 non-null  int64  \n",
      " 27  MH2B               119088 non-null  int64  \n",
      " 28  W13                119088 non-null  int64  \n",
      " 29  W14                119088 non-null  object \n",
      " 30  W15                119088 non-null  object \n",
      " 31  W15_1A             119088 non-null  object \n",
      " 32  W15_1B             119088 non-null  object \n",
      " 33  W15_1C             119088 non-null  object \n",
      " 34  W15_1D             119088 non-null  object \n",
      " 35  W15_1E             119088 non-null  object \n",
      " 36  W15_2A             119088 non-null  object \n",
      " 37  W15_2B             119088 non-null  object \n",
      " 38  MH1                119088 non-null  int64  \n",
      " 39  MH3A               119088 non-null  object \n",
      " 40  MH3B               119088 non-null  object \n",
      " 41  MH3C               119088 non-null  object \n",
      " 42  MH3D               119088 non-null  object \n",
      " 43  MH4A               119088 non-null  object \n",
      " 44  MH4B               119088 non-null  object \n",
      " 45  MH5                119088 non-null  object \n",
      " 46  MH6                119088 non-null  int64  \n",
      " 47  MH7A               119088 non-null  object \n",
      " 48  MH7B               119088 non-null  object \n",
      " 49  MH7B_2             119088 non-null  object \n",
      " 50  MH7C               119088 non-null  object \n",
      " 51  MH8A               119088 non-null  object \n",
      " 52  MH8B               119088 non-null  object \n",
      " 53  MH8C               119088 non-null  object \n",
      " 54  MH8D               119088 non-null  object \n",
      " 55  MH8E               119088 non-null  object \n",
      " 56  MH8F               119088 non-null  object \n",
      " 57  MH8G               119088 non-null  object \n",
      " 58  MH8H               119088 non-null  object \n",
      " 59  MH9A               119088 non-null  object \n",
      " 60  MH9B               119088 non-null  object \n",
      " 61  MH9C               119088 non-null  object \n",
      " 62  MH9D               119088 non-null  object \n",
      " 63  MH9E               119088 non-null  object \n",
      " 64  MH9F               119088 non-null  object \n",
      " 65  MH9G               119088 non-null  object \n",
      " 66  MH9H               119088 non-null  object \n",
      " 67  W27                119088 non-null  int64  \n",
      " 68  W28                119088 non-null  object \n",
      " 69  W29                119088 non-null  object \n",
      " 70  W30                119088 non-null  object \n",
      " 71  WP21757            119088 non-null  object \n",
      " 72  WP21758            119088 non-null  object \n",
      " 73  WP21759            119088 non-null  object \n",
      " 74  WP21760            119088 non-null  object \n",
      " 75  WP21761            119088 non-null  object \n",
      " 76  WP21768            119088 non-null  object \n",
      " 77  age_mh             119088 non-null  object \n",
      " 78  Age                119088 non-null  int64  \n",
      " 79  age_var1           119088 non-null  int64  \n",
      " 80  age_var2           119088 non-null  int64  \n",
      " 81  age_var3           119088 non-null  int64  \n",
      " 82  Gender             119088 non-null  int64  \n",
      " 83  Education          119088 non-null  int64  \n",
      " 84  Household_Income   119088 non-null  object \n",
      " 85  Global11Regions    119088 non-null  int64  \n",
      " 86  wbi                119088 non-null  int64  \n",
      " 87  Subjective_Income  119088 non-null  int64  \n",
      " 88  EMP_2010           119088 non-null  object \n",
      "dtypes: float64(2), int64(32), object(55)\n",
      "memory usage: 80.9+ MB\n"
     ]
    }
   ],
   "source": [
    "df.info()"
   ]
  },
  {
   "cell_type": "code",
   "execution_count": 7,
   "metadata": {},
   "outputs": [
    {
     "data": {
      "text/plain": [
       "[]"
      ]
     },
     "execution_count": 7,
     "metadata": {},
     "output_type": "execute_result"
    }
   ],
   "source": [
    "[x for x in df.columns if df[x].isnull().sum()>=1]\n",
    "# no null values"
   ]
  },
  {
   "cell_type": "code",
   "execution_count": 17,
   "metadata": {},
   "outputs": [
    {
     "data": {
      "text/plain": [
       "['WPID_RANDOM',\n",
       " 'WGT',\n",
       " 'PROJWT',\n",
       " 'FIELD_DATE',\n",
       " 'YEAR_WAVE',\n",
       " 'W1',\n",
       " 'W2',\n",
       " 'W3',\n",
       " 'W4',\n",
       " 'W5A',\n",
       " 'W5B',\n",
       " 'W5C',\n",
       " 'W5D',\n",
       " 'W5E',\n",
       " 'W5F',\n",
       " 'W5G',\n",
       " 'W6',\n",
       " 'W7A',\n",
       " 'W7B',\n",
       " 'W7C',\n",
       " 'W8',\n",
       " 'W9',\n",
       " 'W10',\n",
       " 'W11A',\n",
       " 'W11B',\n",
       " 'MH2A',\n",
       " 'MH2B',\n",
       " 'W13',\n",
       " 'W14',\n",
       " 'W15',\n",
       " 'W15_1A',\n",
       " 'W15_1B',\n",
       " 'W15_1C',\n",
       " 'W15_1D',\n",
       " 'W15_1E',\n",
       " 'W15_2A',\n",
       " 'W15_2B']"
      ]
     },
     "execution_count": 17,
     "metadata": {},
     "output_type": "execute_result"
    }
   ],
   "source": [
    "# dropping irrevelent features\n",
    "features_to_drop = list(df.columns)[1:38]\n",
    "features_to_drop"
   ]
  },
  {
   "cell_type": "code",
   "execution_count": 20,
   "metadata": {},
   "outputs": [],
   "source": [
    "df.drop(features_to_drop,axis=1,inplace=True)"
   ]
  },
  {
   "cell_type": "code",
   "execution_count": 21,
   "metadata": {},
   "outputs": [
    {
     "data": {
      "text/html": [
       "<div>\n",
       "<style scoped>\n",
       "    .dataframe tbody tr th:only-of-type {\n",
       "        vertical-align: middle;\n",
       "    }\n",
       "\n",
       "    .dataframe tbody tr th {\n",
       "        vertical-align: top;\n",
       "    }\n",
       "\n",
       "    .dataframe thead th {\n",
       "        text-align: right;\n",
       "    }\n",
       "</style>\n",
       "<table border=\"1\" class=\"dataframe\">\n",
       "  <thead>\n",
       "    <tr style=\"text-align: right;\">\n",
       "      <th></th>\n",
       "      <th>COUNTRYNEW</th>\n",
       "      <th>MH1</th>\n",
       "      <th>MH3A</th>\n",
       "      <th>MH3B</th>\n",
       "      <th>MH3C</th>\n",
       "      <th>MH3D</th>\n",
       "      <th>MH4A</th>\n",
       "      <th>MH4B</th>\n",
       "      <th>MH5</th>\n",
       "      <th>MH6</th>\n",
       "      <th>...</th>\n",
       "      <th>age_var1</th>\n",
       "      <th>age_var2</th>\n",
       "      <th>age_var3</th>\n",
       "      <th>Gender</th>\n",
       "      <th>Education</th>\n",
       "      <th>Household_Income</th>\n",
       "      <th>Global11Regions</th>\n",
       "      <th>wbi</th>\n",
       "      <th>Subjective_Income</th>\n",
       "      <th>EMP_2010</th>\n",
       "    </tr>\n",
       "  </thead>\n",
       "  <tbody>\n",
       "    <tr>\n",
       "      <th>0</th>\n",
       "      <td>United States</td>\n",
       "      <td>2</td>\n",
       "      <td>2</td>\n",
       "      <td>4</td>\n",
       "      <td>2</td>\n",
       "      <td>4</td>\n",
       "      <td>2</td>\n",
       "      <td>2</td>\n",
       "      <td>2</td>\n",
       "      <td>2</td>\n",
       "      <td>...</td>\n",
       "      <td>3</td>\n",
       "      <td>4</td>\n",
       "      <td>4</td>\n",
       "      <td>2</td>\n",
       "      <td>2</td>\n",
       "      <td>5</td>\n",
       "      <td>9</td>\n",
       "      <td>4</td>\n",
       "      <td>2</td>\n",
       "      <td>6</td>\n",
       "    </tr>\n",
       "    <tr>\n",
       "      <th>1</th>\n",
       "      <td>United States</td>\n",
       "      <td>2</td>\n",
       "      <td>1</td>\n",
       "      <td>1</td>\n",
       "      <td>1</td>\n",
       "      <td>1</td>\n",
       "      <td>1</td>\n",
       "      <td>2</td>\n",
       "      <td>2</td>\n",
       "      <td>1</td>\n",
       "      <td>...</td>\n",
       "      <td>1</td>\n",
       "      <td>1</td>\n",
       "      <td>1</td>\n",
       "      <td>1</td>\n",
       "      <td>3</td>\n",
       "      <td>4</td>\n",
       "      <td>9</td>\n",
       "      <td>4</td>\n",
       "      <td>1</td>\n",
       "      <td>1</td>\n",
       "    </tr>\n",
       "    <tr>\n",
       "      <th>2</th>\n",
       "      <td>United States</td>\n",
       "      <td>2</td>\n",
       "      <td>1</td>\n",
       "      <td>2</td>\n",
       "      <td>1</td>\n",
       "      <td>2</td>\n",
       "      <td>1</td>\n",
       "      <td>2</td>\n",
       "      <td>2</td>\n",
       "      <td>2</td>\n",
       "      <td>...</td>\n",
       "      <td>1</td>\n",
       "      <td>1</td>\n",
       "      <td>2</td>\n",
       "      <td>1</td>\n",
       "      <td>3</td>\n",
       "      <td>4</td>\n",
       "      <td>9</td>\n",
       "      <td>4</td>\n",
       "      <td>1</td>\n",
       "      <td>1</td>\n",
       "    </tr>\n",
       "    <tr>\n",
       "      <th>3</th>\n",
       "      <td>United States</td>\n",
       "      <td>2</td>\n",
       "      <td>1</td>\n",
       "      <td>3</td>\n",
       "      <td>1</td>\n",
       "      <td>3</td>\n",
       "      <td>1</td>\n",
       "      <td>1</td>\n",
       "      <td>2</td>\n",
       "      <td>1</td>\n",
       "      <td>...</td>\n",
       "      <td>3</td>\n",
       "      <td>3</td>\n",
       "      <td>4</td>\n",
       "      <td>2</td>\n",
       "      <td>3</td>\n",
       "      <td>4</td>\n",
       "      <td>9</td>\n",
       "      <td>4</td>\n",
       "      <td>2</td>\n",
       "      <td>1</td>\n",
       "    </tr>\n",
       "    <tr>\n",
       "      <th>4</th>\n",
       "      <td>United States</td>\n",
       "      <td>2</td>\n",
       "      <td>1</td>\n",
       "      <td>2</td>\n",
       "      <td>1</td>\n",
       "      <td>2</td>\n",
       "      <td>2</td>\n",
       "      <td>2</td>\n",
       "      <td>2</td>\n",
       "      <td>1</td>\n",
       "      <td>...</td>\n",
       "      <td>2</td>\n",
       "      <td>2</td>\n",
       "      <td>3</td>\n",
       "      <td>1</td>\n",
       "      <td>2</td>\n",
       "      <td>2</td>\n",
       "      <td>9</td>\n",
       "      <td>4</td>\n",
       "      <td>4</td>\n",
       "      <td>6</td>\n",
       "    </tr>\n",
       "  </tbody>\n",
       "</table>\n",
       "<p>5 rows × 52 columns</p>\n",
       "</div>"
      ],
      "text/plain": [
       "      COUNTRYNEW  MH1 MH3A MH3B MH3C MH3D MH4A MH4B MH5  MH6  ... age_var1  \\\n",
       "0  United States    2    2    4    2    4    2    2   2    2  ...        3   \n",
       "1  United States    2    1    1    1    1    1    2   2    1  ...        1   \n",
       "2  United States    2    1    2    1    2    1    2   2    2  ...        1   \n",
       "3  United States    2    1    3    1    3    1    1   2    1  ...        3   \n",
       "4  United States    2    1    2    1    2    2    2   2    1  ...        2   \n",
       "\n",
       "  age_var2 age_var3 Gender Education Household_Income Global11Regions wbi  \\\n",
       "0        4        4      2         2                5               9   4   \n",
       "1        1        1      1         3                4               9   4   \n",
       "2        1        2      1         3                4               9   4   \n",
       "3        3        4      2         3                4               9   4   \n",
       "4        2        3      1         2                2               9   4   \n",
       "\n",
       "  Subjective_Income EMP_2010  \n",
       "0                 2        6  \n",
       "1                 1        1  \n",
       "2                 1        1  \n",
       "3                 2        1  \n",
       "4                 4        6  \n",
       "\n",
       "[5 rows x 52 columns]"
      ]
     },
     "execution_count": 21,
     "metadata": {},
     "output_type": "execute_result"
    }
   ],
   "source": [
    "df.head()"
   ]
  },
  {
   "cell_type": "code",
   "execution_count": 22,
   "metadata": {},
   "outputs": [
    {
     "data": {
      "text/plain": [
       "Index(['COUNTRYNEW', 'MH1', 'MH3A', 'MH3B', 'MH3C', 'MH3D', 'MH4A', 'MH4B',\n",
       "       'MH5', 'MH6', 'MH7A', 'MH7B', 'MH7B_2', 'MH7C', 'MH8A', 'MH8B', 'MH8C',\n",
       "       'MH8D', 'MH8E', 'MH8F', 'MH8G', 'MH8H', 'MH9A', 'MH9B', 'MH9C', 'MH9D',\n",
       "       'MH9E', 'MH9F', 'MH9G', 'MH9H', 'W27', 'W28', 'W29', 'W30', 'WP21757',\n",
       "       'WP21758', 'WP21759', 'WP21760', 'WP21761', 'WP21768', 'age_mh', 'Age',\n",
       "       'age_var1', 'age_var2', 'age_var3', 'Gender', 'Education',\n",
       "       'Household_Income', 'Global11Regions', 'wbi', 'Subjective_Income',\n",
       "       'EMP_2010'],\n",
       "      dtype='object')"
      ]
     },
     "execution_count": 22,
     "metadata": {},
     "output_type": "execute_result"
    }
   ],
   "source": [
    "df.columns"
   ]
  },
  {
   "cell_type": "code",
   "execution_count": 26,
   "metadata": {},
   "outputs": [
    {
     "data": {
      "text/plain": [
       "1    48147\n",
       "2    45422\n",
       "3    17315\n",
       "      7522\n",
       "8      401\n",
       "4      182\n",
       "9       99\n",
       "Name: WP21757, dtype: int64"
      ]
     },
     "execution_count": 26,
     "metadata": {},
     "output_type": "execute_result"
    }
   ],
   "source": [
    "df['WP21757'].value_counts()"
   ]
  },
  {
   "cell_type": "code",
   "execution_count": 28,
   "metadata": {},
   "outputs": [],
   "source": [
    "#removing 'mh7b' and 'age_mh' because their info is already present in 'mh7b_2' feature\n",
    "df.drop(columns=['MH7B','age_mh'],axis=1,inplace=True)"
   ]
  },
  {
   "cell_type": "code",
   "execution_count": 29,
   "metadata": {},
   "outputs": [
    {
     "data": {
      "text/plain": [
       "Index(['COUNTRYNEW', 'MH1', 'MH3A', 'MH3B', 'MH3C', 'MH3D', 'MH4A', 'MH4B',\n",
       "       'MH5', 'MH6', 'MH7A', 'MH7B_2', 'MH7C', 'MH8A', 'MH8B', 'MH8C', 'MH8D',\n",
       "       'MH8E', 'MH8F', 'MH8G', 'MH8H', 'MH9A', 'MH9B', 'MH9C', 'MH9D', 'MH9E',\n",
       "       'MH9F', 'MH9G', 'MH9H', 'W27', 'W28', 'W29', 'W30', 'WP21757',\n",
       "       'WP21758', 'WP21759', 'WP21760', 'WP21761', 'WP21768', 'Age',\n",
       "       'age_var1', 'age_var2', 'age_var3', 'Gender', 'Education',\n",
       "       'Household_Income', 'Global11Regions', 'wbi', 'Subjective_Income',\n",
       "       'EMP_2010'],\n",
       "      dtype='object')"
      ]
     },
     "execution_count": 29,
     "metadata": {},
     "output_type": "execute_result"
    }
   ],
   "source": [
    "df.columns"
   ]
  },
  {
   "cell_type": "code",
   "execution_count": 30,
   "metadata": {},
   "outputs": [],
   "source": [
    "# removing 'W27', 'W28', 'W29', 'W30', 'WP21757','WP21758', 'WP21759', 'WP21760', 'WP21761', 'WP21768'\n",
    "\n",
    "df.drop(columns=['W27', 'W28', 'W29', 'W30', 'WP21757','WP21758', 'WP21759', 'WP21760', 'WP21761', 'WP21768'],axis=1,inplace=True)"
   ]
  },
  {
   "cell_type": "code",
   "execution_count": 31,
   "metadata": {},
   "outputs": [
    {
     "data": {
      "text/plain": [
       "Index(['COUNTRYNEW', 'MH1', 'MH3A', 'MH3B', 'MH3C', 'MH3D', 'MH4A', 'MH4B',\n",
       "       'MH5', 'MH6', 'MH7A', 'MH7B_2', 'MH7C', 'MH8A', 'MH8B', 'MH8C', 'MH8D',\n",
       "       'MH8E', 'MH8F', 'MH8G', 'MH8H', 'MH9A', 'MH9B', 'MH9C', 'MH9D', 'MH9E',\n",
       "       'MH9F', 'MH9G', 'MH9H', 'Age', 'age_var1', 'age_var2', 'age_var3',\n",
       "       'Gender', 'Education', 'Household_Income', 'Global11Regions', 'wbi',\n",
       "       'Subjective_Income', 'EMP_2010'],\n",
       "      dtype='object')"
      ]
     },
     "execution_count": 31,
     "metadata": {},
     "output_type": "execute_result"
    }
   ],
   "source": [
    "df.columns"
   ]
  },
  {
   "cell_type": "code",
   "execution_count": 33,
   "metadata": {},
   "outputs": [],
   "source": [
    "# removing 'Age', age_var1, 'age_var3' as 'age_var2' is sufficient\n",
    "df.drop(columns=['Age', 'age_var1','age_var3'],axis=1,inplace=True)"
   ]
  },
  {
   "cell_type": "code",
   "execution_count": 34,
   "metadata": {},
   "outputs": [
    {
     "data": {
      "text/plain": [
       "Index(['COUNTRYNEW', 'MH1', 'MH3A', 'MH3B', 'MH3C', 'MH3D', 'MH4A', 'MH4B',\n",
       "       'MH5', 'MH6', 'MH7A', 'MH7B_2', 'MH7C', 'MH8A', 'MH8B', 'MH8C', 'MH8D',\n",
       "       'MH8E', 'MH8F', 'MH8G', 'MH8H', 'MH9A', 'MH9B', 'MH9C', 'MH9D', 'MH9E',\n",
       "       'MH9F', 'MH9G', 'MH9H', 'age_var2', 'Gender', 'Education',\n",
       "       'Household_Income', 'Global11Regions', 'wbi', 'Subjective_Income',\n",
       "       'EMP_2010'],\n",
       "      dtype='object')"
      ]
     },
     "execution_count": 34,
     "metadata": {},
     "output_type": "execute_result"
    }
   ],
   "source": [
    "df.columns"
   ]
  },
  {
   "cell_type": "code",
   "execution_count": 35,
   "metadata": {},
   "outputs": [],
   "source": [
    "#removing 'Global11Regions', 'wbi' as they are irrelevant\n",
    "df.drop(columns=['Global11Regions', 'wbi'],axis=1,inplace=True)"
   ]
  },
  {
   "cell_type": "code",
   "execution_count": 37,
   "metadata": {},
   "outputs": [
    {
     "data": {
      "text/plain": [
       "(119088, 35)"
      ]
     },
     "execution_count": 37,
     "metadata": {},
     "output_type": "execute_result"
    }
   ],
   "source": [
    "df.shape"
   ]
  },
  {
   "cell_type": "code",
   "execution_count": 39,
   "metadata": {},
   "outputs": [
    {
     "name": "stdout",
     "output_type": "stream",
     "text": [
      "<class 'pandas.core.frame.DataFrame'>\n",
      "RangeIndex: 119088 entries, 0 to 119087\n",
      "Data columns (total 35 columns):\n",
      " #   Column             Non-Null Count   Dtype \n",
      "---  ------             --------------   ----- \n",
      " 0   COUNTRYNEW         119088 non-null  object\n",
      " 1   MH1                119088 non-null  int64 \n",
      " 2   MH3A               119088 non-null  object\n",
      " 3   MH3B               119088 non-null  object\n",
      " 4   MH3C               119088 non-null  object\n",
      " 5   MH3D               119088 non-null  object\n",
      " 6   MH4A               119088 non-null  object\n",
      " 7   MH4B               119088 non-null  object\n",
      " 8   MH5                119088 non-null  object\n",
      " 9   MH6                119088 non-null  int64 \n",
      " 10  MH7A               119088 non-null  object\n",
      " 11  MH7B_2             119088 non-null  object\n",
      " 12  MH7C               119088 non-null  object\n",
      " 13  MH8A               119088 non-null  object\n",
      " 14  MH8B               119088 non-null  object\n",
      " 15  MH8C               119088 non-null  object\n",
      " 16  MH8D               119088 non-null  object\n",
      " 17  MH8E               119088 non-null  object\n",
      " 18  MH8F               119088 non-null  object\n",
      " 19  MH8G               119088 non-null  object\n",
      " 20  MH8H               119088 non-null  object\n",
      " 21  MH9A               119088 non-null  object\n",
      " 22  MH9B               119088 non-null  object\n",
      " 23  MH9C               119088 non-null  object\n",
      " 24  MH9D               119088 non-null  object\n",
      " 25  MH9E               119088 non-null  object\n",
      " 26  MH9F               119088 non-null  object\n",
      " 27  MH9G               119088 non-null  object\n",
      " 28  MH9H               119088 non-null  object\n",
      " 29  age_var2           119088 non-null  int64 \n",
      " 30  Gender             119088 non-null  int64 \n",
      " 31  Education          119088 non-null  int64 \n",
      " 32  Household_Income   119088 non-null  object\n",
      " 33  Subjective_Income  119088 non-null  int64 \n",
      " 34  EMP_2010           119088 non-null  object\n",
      "dtypes: int64(6), object(29)\n",
      "memory usage: 31.8+ MB\n"
     ]
    }
   ],
   "source": [
    "df.info()"
   ]
  },
  {
   "cell_type": "code",
   "execution_count": 56,
   "metadata": {},
   "outputs": [
    {
     "data": {
      "text/plain": [
       "Index(['2', '3', '1', '99', ' '], dtype='object')"
      ]
     },
     "execution_count": 56,
     "metadata": {},
     "output_type": "execute_result"
    }
   ],
   "source": [
    "df['MH5'].value_counts().index"
   ]
  },
  {
   "cell_type": "code",
   "execution_count": 55,
   "metadata": {},
   "outputs": [
    {
     "data": {
      "text/plain": [
       "array([47703, 35815, 26919,  7651,  1000])"
      ]
     },
     "execution_count": 55,
     "metadata": {},
     "output_type": "execute_result"
    }
   ],
   "source": [
    "df['MH5'].value_counts().values\n"
   ]
  },
  {
   "cell_type": "code",
   "execution_count": 63,
   "metadata": {},
   "outputs": [
    {
     "data": {
      "text/plain": [
       "China           3235\n",
       "India           2300\n",
       "Russia          1489\n",
       "Saudi Arabia    1013\n",
       "Tajikistan      1000\n",
       "                ... \n",
       "Bolivia          652\n",
       "Nicaragua        648\n",
       "Ecuador          608\n",
       "Zambia           602\n",
       "Peru             558\n",
       "Name: COUNTRYNEW, Length: 113, dtype: int64"
      ]
     },
     "execution_count": 63,
     "metadata": {},
     "output_type": "execute_result"
    }
   ],
   "source": [
    "df[df['MH8B']==' ']['COUNTRYNEW'].value_counts()"
   ]
  },
  {
   "cell_type": "code",
   "execution_count": 65,
   "metadata": {},
   "outputs": [
    {
     "data": {
      "text/plain": [
       "Index([' ', '2', '1', '99'], dtype='object')"
      ]
     },
     "execution_count": 65,
     "metadata": {},
     "output_type": "execute_result"
    }
   ],
   "source": [
    "df['MH8B'].value_counts().index\n"
   ]
  },
  {
   "cell_type": "code",
   "execution_count": 66,
   "metadata": {},
   "outputs": [
    {
     "data": {
      "text/plain": [
       "array([95412, 13303, 10246,   127])"
      ]
     },
     "execution_count": 66,
     "metadata": {},
     "output_type": "execute_result"
    }
   ],
   "source": [
    "df['MH8B'].value_counts().values"
   ]
  },
  {
   "cell_type": "code",
   "execution_count": 69,
   "metadata": {},
   "outputs": [
    {
     "name": "stdout",
     "output_type": "stream",
     "text": [
      "Int64Index([2, 1, 99], dtype='int64')\n",
      "[69635 46197  3256]\n"
     ]
    }
   ],
   "source": [
    "print(df['MH6'].value_counts().index)\n",
    "print(df['MH6'].value_counts().values)\n"
   ]
  },
  {
   "cell_type": "code",
   "execution_count": 71,
   "metadata": {},
   "outputs": [
    {
     "name": "stdout",
     "output_type": "stream",
     "text": [
      "COUNTRYNEW\n",
      "Index(['China', 'India', 'Russia', 'Israel', 'Lebanon', 'Uganda', 'Montenegro',\n",
      "       'Senegal', 'Indonesia', 'Chile',\n",
      "       ...\n",
      "       'Vietnam', 'Dominican Republic', 'Ecuador', 'El Salvador',\n",
      "       'Philippines', 'Finland', 'Ghana', 'Tanzania', 'Ireland', 'Kazakhstan'],\n",
      "      dtype='object', length=113)\n",
      "[3502 3045 2002 1063 1035 1027 1027 1025 1023 1021 1020 1019 1013 1013\n",
      " 1012 1012 1012 1011 1011 1010 1009 1009 1009 1009 1007 1007 1007 1007\n",
      " 1006 1006 1006 1006 1005 1005 1005 1005 1005 1005 1005 1004 1004 1004\n",
      " 1004 1004 1004 1004 1003 1003 1002 1002 1002 1002 1002 1002 1002 1002\n",
      " 1002 1002 1001 1001 1001 1001 1001 1001 1001 1001 1000 1000 1000 1000\n",
      " 1000 1000 1000 1000 1000 1000 1000 1000 1000 1000 1000 1000 1000 1000\n",
      " 1000 1000 1000 1000 1000 1000 1000 1000 1000 1000 1000 1000 1000 1000\n",
      " 1000 1000 1000 1000 1000 1000 1000 1000 1000 1000 1000 1000 1000 1000\n",
      " 1000]\n",
      "\n",
      "\n",
      "MH1\n",
      "Int64Index([2, 1, 3, 99], dtype='int64')\n",
      "[60003 53180  4240  1665]\n",
      "\n",
      "\n",
      "MH3A\n",
      "Index(['1', '2', '3', '4', '99', ' '], dtype='object')\n",
      "[62121 37160 10912  4321  3574  1000]\n",
      "\n",
      "\n",
      "MH3B\n",
      "Index(['2', '1', '3', '4', '99', ' '], dtype='object')\n",
      "[47472 38088 19183  7973  5372  1000]\n",
      "\n",
      "\n",
      "MH3C\n",
      "Index(['1', '2', '3', '99', '4', ' '], dtype='object')\n",
      "[65583 31694  9623  6210  4978  1000]\n",
      "\n",
      "\n",
      "MH3D\n",
      "Index(['2', '1', '3', '4', '99', ' '], dtype='object')\n",
      "[42792 38280 20690 10695  5631  1000]\n",
      "\n",
      "\n",
      "MH4A\n",
      "Index(['1', '2', '3', '99', ' ', '4'], dtype='object')\n",
      "[89796 20332  2972  2143  2013  1832]\n",
      "\n",
      "\n",
      "MH4B\n",
      "Index(['1', '2', '3', '4', '99', ' '], dtype='object')\n",
      "[66898 34639  8198  3963  3377  2013]\n",
      "\n",
      "\n",
      "MH5\n",
      "Index(['2', '3', '1', '99', ' '], dtype='object')\n",
      "[47703 35815 26919  7651  1000]\n",
      "\n",
      "\n",
      "MH6\n",
      "Int64Index([2, 1, 99], dtype='int64')\n",
      "[69635 46197  3256]\n",
      "\n",
      "\n",
      "MH7A\n",
      "Index(['2', '1', '99', ' '], dtype='object')\n",
      "[92839 23971  1278  1000]\n",
      "\n",
      "\n",
      "MH7B_2\n",
      "Index([' ', '99', '3', '2', '4', '5', '1'], dtype='object')\n",
      "[117961    307    274    225    127    123     71]\n",
      "\n",
      "\n",
      "MH7C\n",
      "Index([' ', '1', '2', '99'], dtype='object')\n",
      "[95117 17445  6315   211]\n",
      "\n",
      "\n",
      "MH8A\n",
      "Index([' ', '2', '1', '99'], dtype='object')\n",
      "[95117 13581 10285   105]\n",
      "\n",
      "\n",
      "MH8B\n",
      "Index([' ', '2', '1', '99'], dtype='object')\n",
      "[95412 13303 10246   127]\n",
      "\n",
      "\n",
      "MH8C\n",
      "Index([' ', '1', '2', '99'], dtype='object')\n",
      "[95117 19104  4789    78]\n",
      "\n",
      "\n",
      "MH8D\n",
      "Index([' ', '2', '1', '99'], dtype='object')\n",
      "[95117 12691 11191    89]\n",
      "\n",
      "\n",
      "MH8E\n",
      "Index([' ', '1', '2', '99'], dtype='object')\n",
      "[95117 17430  6393   148]\n",
      "\n",
      "\n",
      "MH8F\n",
      "Index([' ', '1', '2', '99'], dtype='object')\n",
      "[95117 12252 11456   263]\n",
      "\n",
      "\n",
      "MH8G\n",
      "Index([' ', '1', '2', '99'], dtype='object')\n",
      "[95117 14970  8730   271]\n",
      "\n",
      "\n",
      "MH8H\n",
      "Index([' ', '1', '2', '99'], dtype='object')\n",
      "[95117 17653  6204   114]\n",
      "\n",
      "\n",
      "MH9A\n",
      "Index([' ', '1', '2', '3', '99'], dtype='object')\n",
      "[108834   6456   2933    748    117]\n",
      "\n",
      "\n",
      "MH9B\n",
      "Index([' ', '1', '2', '3', '99'], dtype='object')\n",
      "[108906   6776   2789    532     85]\n",
      "\n",
      "\n",
      "MH9C\n",
      "Index([' ', '1', '2', '3', '99'], dtype='object')\n",
      "[100289  12395   5478    831     95]\n",
      "\n",
      "\n",
      "MH9D\n",
      "Index([' ', '1', '2', '3', '99'], dtype='object')\n",
      "[107957   6254   3703   1064    110]\n",
      "\n",
      "\n",
      "MH9E\n",
      "Index([' ', '1', '2', '3', '99'], dtype='object')\n",
      "[101787  12278   4360    561    102]\n",
      "\n",
      "\n",
      "MH9F\n",
      "Index([' ', '1', '2', '3', '99'], dtype='object')\n",
      "[106877   7320   3734    991    166]\n",
      "\n",
      "\n",
      "MH9G\n",
      "Index([' ', '1', '2', '3', '99'], dtype='object')\n",
      "[104221   9157   4624    918    168]\n",
      "\n",
      "\n",
      "MH9H\n",
      "Index([' ', '1', '2', '3', '99'], dtype='object')\n",
      "[101604  12730   4159    518     77]\n",
      "\n",
      "\n",
      "age_var2\n",
      "Int64Index([2, 1, 3, 4, 99], dtype='int64')\n",
      "[45349 40033 20244 12831   631]\n",
      "\n",
      "\n",
      "Gender\n",
      "Int64Index([1, 2], dtype='int64')\n",
      "[60722 58366]\n",
      "\n",
      "\n",
      "Education\n",
      "Int64Index([2, 3, 1, 99], dtype='int64')\n",
      "[65111 37407 15825   745]\n",
      "\n",
      "\n",
      "Household_Income\n",
      "Index(['5', '4', '3', '2', '1', ' '], dtype='object')\n",
      "[32155 25782 22571 19790 17790  1000]\n",
      "\n",
      "\n",
      "Subjective_Income\n",
      "Int64Index([2, 1, 3, 4, 5, 6], dtype='int64')\n",
      "[48684 31301 23127 13976  1107   893]\n",
      "\n",
      "\n",
      "EMP_2010\n",
      "Index(['1', '6', '2', '5', '4', '3', ' '], dtype='object')\n",
      "[42866 35287 15588  9907  8178  7252    10]\n",
      "\n",
      "\n"
     ]
    }
   ],
   "source": [
    "# problem - there are lots of spaces present in multiple features\n",
    "for x in df.columns:\n",
    "    print(x)\n",
    "    print(df[x].value_counts().index)\n",
    "    print(df[x].value_counts().values)\n",
    "    print('\\n')"
   ]
  },
  {
   "cell_type": "code",
   "execution_count": null,
   "metadata": {},
   "outputs": [],
   "source": []
  }
 ],
 "metadata": {
  "interpreter": {
   "hash": "31f2aee4e71d21fbe5cf8b01ff0e069b9275f58929596ceb00d14d90e3e16cd6"
  },
  "kernelspec": {
   "display_name": "Python 3.8.10 64-bit",
   "language": "python",
   "name": "python3"
  },
  "language_info": {
   "codemirror_mode": {
    "name": "ipython",
    "version": 3
   },
   "file_extension": ".py",
   "mimetype": "text/x-python",
   "name": "python",
   "nbconvert_exporter": "python",
   "pygments_lexer": "ipython3",
   "version": "3.8.12"
  },
  "orig_nbformat": 4
 },
 "nbformat": 4,
 "nbformat_minor": 2
}
